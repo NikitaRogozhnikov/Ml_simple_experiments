{
  "nbformat": 4,
  "nbformat_minor": 0,
  "metadata": {
    "colab": {
      "name": "FtoC.ipynb",
      "provenance": [],
      "collapsed_sections": [],
      "authorship_tag": "ABX9TyPfZiPpfW+7QItWqNqZeXiU",
      "include_colab_link": true
    },
    "kernelspec": {
      "name": "python3",
      "display_name": "Python 3"
    }
  },
  "cells": [
    {
      "cell_type": "markdown",
      "metadata": {
        "id": "view-in-github",
        "colab_type": "text"
      },
      "source": [
        "<a href=\"https://colab.research.google.com/github/NikitaRogozhnikov/Ml_simple_experiments/blob/main/FtoC.ipynb\" target=\"_parent\"><img src=\"https://colab.research.google.com/assets/colab-badge.svg\" alt=\"Open In Colab\"/></a>"
      ]
    },
    {
      "cell_type": "code",
      "metadata": {
        "id": "TLzX67tz_QrB"
      },
      "source": [
        "import numpy as np\n",
        "import matplotlib.pyplot as plt\n",
        "from tensorflow import keras\n",
        "from tensorflow.keras.layers import Dense\n"
      ],
      "execution_count": null,
      "outputs": []
    },
    {
      "cell_type": "markdown",
      "metadata": {
        "id": "-KWtZ4DWyOw6"
      },
      "source": [
        "Переводим температуру из цельсия в фаренгейты"
      ]
    },
    {
      "cell_type": "code",
      "metadata": {
        "id": "6B17gnjO_lxD",
        "outputId": "9bea8b2d-10ce-446b-fc09-6ca667f259dd",
        "colab": {
          "base_uri": "https://localhost:8080/",
          "height": 265
        }
      },
      "source": [
        "c=np.array([-40,-10,0,8,15,22,38])\n",
        "f=np.array([-40,14,32,46,59,72,100])\n",
        "model=keras.Sequential()\n",
        "model.add(Dense(units=1,input_shape=(1,),activation='linear'))\n",
        "model.compile(loss='mean_squared_error',optimizer=keras.optimizers.Adam(0.1))\n",
        "ftns=model.fit(c,f,epochs=500,verbose=0)\n",
        "plt.plot(ftns.history['loss'])\n",
        "plt.grid()"
      ],
      "execution_count": null,
      "outputs": [
        {
          "output_type": "display_data",
          "data": {
            "image/png": "[encoded data removed]",
            "text/plain": [
              "<Figure size 432x288 with 1 Axes>"
            ]
          },
          "metadata": {
            "tags": [],
            "needs_background": "light"
          }
        }
      ]
    },
    {
      "cell_type": "code",
      "metadata": {
        "id": "9t8lwc4X_zO-",
        "outputId": "23700287-e466-4dd5-ace0-50af95ea4167",
        "colab": {
          "base_uri": "https://localhost:8080/",
          "height": 34
        }
      },
      "source": [
        "model.predict([100])"
      ],
      "execution_count": null,
      "outputs": [
        {
          "output_type": "execute_result",
          "data": {
            "text/plain": [
              "array([[211.3037]], dtype=float32)"
            ]
          },
          "metadata": {
            "tags": []
          },
          "execution_count": 8
        }
      ]
    },
    {
      "cell_type": "code",
      "metadata": {
        "id": "xW1db6M0AQwT",
        "outputId": "f6d55641-4de2-4c58-bf04-19f1716968aa",
        "colab": {
          "base_uri": "https://localhost:8080/",
          "height": 34
        }
      },
      "source": [
        "model.get_weights()"
      ],
      "execution_count": null,
      "outputs": [
        {
          "output_type": "execute_result",
          "data": {
            "text/plain": [
              "[array([[1.8251542]], dtype=float32), array([28.78828], dtype=float32)]"
            ]
          },
          "metadata": {
            "tags": []
          },
          "execution_count": 9
        }
      ]
    }
  ]
}